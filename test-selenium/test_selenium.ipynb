{
 "cells": [
  {
   "cell_type": "markdown",
   "id": "8b046d20",
   "metadata": {},
   "source": [
    "# Test Selenium \n",
    "\n",
    "https://selenium-python.readthedocs.io/getting-started.html"
   ]
  },
  {
   "cell_type": "code",
   "execution_count": null,
   "id": "9ee1ba32",
   "metadata": {},
   "outputs": [],
   "source": [
    "from time import sleep\n",
    "from selenium import webdriver\n",
    "from selenium.webdriver.common.by import By"
   ]
  },
  {
   "cell_type": "code",
   "execution_count": null,
   "id": "5bc3cb9d",
   "metadata": {},
   "outputs": [],
   "source": [
    "# On crée une instance du web-driver Firefox (ou Chrome)\n",
    "driver = webdriver.Firefox()\n",
    "#driver = webdriver.Chrome(\"Chrome install path\")  \n",
    "\n",
    "driver.get(\"https://www.linkedin.com/in/ludovic-moncla/\")\n",
    " \n",
    "# En fonction de notre connection et des performances de notre machine il faudra attendre\n",
    "# que la page charge avant de passer à la suite\n",
    "sleep(5)\n",
    "\n",
    "element = driver.find_element(By.XPATH, '//h1')\n",
    "\n",
    "\n",
    "print(element.text)"
   ]
  },
  {
   "cell_type": "markdown",
   "id": "44fc32d3",
   "metadata": {},
   "source": [
    "* see: https://selenium-python.readthedocs.io/locating-elements.html"
   ]
  }
 ],
 "metadata": {
  "kernelspec": {
   "display_name": "Python 3 (ipykernel)",
   "language": "python",
   "name": "python3"
  },
  "language_info": {
   "codemirror_mode": {
    "name": "ipython",
    "version": 3
   },
   "file_extension": ".py",
   "mimetype": "text/x-python",
   "name": "python",
   "nbconvert_exporter": "python",
   "pygments_lexer": "ipython3",
   "version": "3.9.18"
  }
 },
 "nbformat": 4,
 "nbformat_minor": 5
}
