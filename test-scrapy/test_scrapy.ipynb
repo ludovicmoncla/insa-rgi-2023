{
 "cells": [
  {
   "cell_type": "markdown",
   "id": "8b046d20",
   "metadata": {},
   "source": [
    "# Test Scrapy \n",
    "\n",
    "https://ledatascientist.com/creer-un-jeu-de-donnees-avec-scrapy/"
   ]
  },
  {
   "cell_type": "code",
   "execution_count": 10,
   "id": "8758ffb3",
   "metadata": {},
   "outputs": [
    {
     "name": "stdout",
     "output_type": "stream",
     "text": [
      "New Scrapy project 'testscrapy', using template directory '/opt/homebrew/Caskroom/miniforge/base/envs/rgi-py39/lib/python3.9/site-packages/scrapy/templates/project', created in:\n",
      "    /Users/lmoncla/git/github.com/lmoncla/insa-rgi-2023/test-scrapy/testscrapy\n",
      "\n",
      "You can start your first spider with:\n",
      "    cd testscrapy\n",
      "    scrapy genspider example example.com\n"
     ]
    }
   ],
   "source": [
    "!scrapy startproject testscrapy"
   ]
  },
  {
   "cell_type": "markdown",
   "id": "12b79247",
   "metadata": {},
   "source": [
    "* run the following command from a terminal. You should be in the same directory as the scrapy.cfg file:\n",
    "\n",
    "```bash \n",
    "scrapy crawl reviews_allocine -o reviews_allocine.csv\n",
    "```"
   ]
  },
  {
   "cell_type": "markdown",
   "id": "571c87e8",
   "metadata": {},
   "source": [
    "It works with Allocine reviews."
   ]
  },
  {
   "cell_type": "markdown",
   "id": "7617f83f",
   "metadata": {},
   "source": [
    "* run the following command from a terminal. You should be in the same directory as the scrapy.cfg file:\n",
    "\n",
    "```bash\n",
    "scrapy crawl linkedin -o linkedin.csv\n",
    "``````\n"
   ]
  },
  {
   "cell_type": "markdown",
   "id": "4bda3048",
   "metadata": {},
   "source": [
    "* Several problems while scraping Linkedin:\n",
    "    * getting forbidden by robots.txt: https://stackoverflow.com/questions/37274835/getting-forbidden-by-robots-txt-scrapy\n",
    "    * referer none: https://stackoverflow.com/questions/68498173/scrapy-no-item-output-debug-crawled-200-referernone\n",
    "\n",
    "* Adding the following lines to settings.py solve the problems:\n",
    "\n",
    "    ```python\n",
    "    USER_AGENT=\"Mozilla/5.0 (Windows NT 10.0; Win64; x64) AppleWebKit/537.36 (KHTML, like Gecko) Chrome/74.0.3729.169 Safari/537.36\"\n",
    "    ROBOTSTXT_OBEY=False\n",
    "    ```"
   ]
  },
  {
   "cell_type": "markdown",
   "id": "77e26c97",
   "metadata": {},
   "source": []
  },
  {
   "cell_type": "code",
   "execution_count": null,
   "id": "64817b60",
   "metadata": {},
   "outputs": [],
   "source": []
  }
 ],
 "metadata": {
  "kernelspec": {
   "display_name": "Python 3 (ipykernel)",
   "language": "python",
   "name": "python3"
  },
  "language_info": {
   "codemirror_mode": {
    "name": "ipython",
    "version": 3
   },
   "file_extension": ".py",
   "mimetype": "text/x-python",
   "name": "python",
   "nbconvert_exporter": "python",
   "pygments_lexer": "ipython3",
   "version": "3.9.18"
  }
 },
 "nbformat": 4,
 "nbformat_minor": 5
}
